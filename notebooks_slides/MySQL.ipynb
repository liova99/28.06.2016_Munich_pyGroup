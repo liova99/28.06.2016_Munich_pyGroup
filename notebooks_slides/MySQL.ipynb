{
 "cells": [
  {
   "cell_type": "code",
   "execution_count": 1,
   "metadata": {
    "collapsed": false
   },
   "outputs": [],
   "source": [
    "\n",
    "# on linux $sudo apt-get install python-mysqldb\n",
    "import MySQLdb\n",
    "\n",
    "# import my sql credentials (host, username, password)\n",
    "from mysql_pass import *"
   ]
  },
  {
   "cell_type": "code",
   "execution_count": 2,
   "metadata": {
    "collapsed": false
   },
   "outputs": [],
   "source": [
    "# make a conection with 'test' DataBase\n",
    "conn = MySQLdb.connect(host= host,\n",
    "                           user = user ,\n",
    "                           passwd = passwd,\n",
    "                           db = 'test')\n",
    "    "
   ]
  },
  {
   "cell_type": "code",
   "execution_count": 3,
   "metadata": {
    "collapsed": true
   },
   "outputs": [],
   "source": [
    "# define the cursor, \n",
    "cur = conn.cursor()"
   ]
  },
  {
   "cell_type": "code",
   "execution_count": 4,
   "metadata": {
    "collapsed": false
   },
   "outputs": [
    {
     "name": "stdout",
     "output_type": "stream",
     "text": [
      "Connected & commited\n",
      "connection closed\n"
     ]
    }
   ],
   "source": [
    "# execute a Mysql command\n",
    "# finance is the db table, (search) is the column name\n",
    "cur.execute( 'INSERT INTO finance (search) VALUES(\"AAPL\")' )\n",
    "\n",
    "# Commit changes\n",
    "conn.commit()\n",
    "print ('Connected & commited')\n",
    "\n",
    "# Must always close the connection\n",
    "cur.close()\n",
    "conn.close()\n",
    "print ('connection closed')"
   ]
  },
  {
   "cell_type": "code",
   "execution_count": null,
   "metadata": {
    "collapsed": true
   },
   "outputs": [],
   "source": []
  }
 ],
 "metadata": {
  "kernelspec": {
   "display_name": "Python 3",
   "language": "python",
   "name": "python3"
  },
  "language_info": {
   "codemirror_mode": {
    "name": "ipython",
    "version": 3
   },
   "file_extension": ".py",
   "mimetype": "text/x-python",
   "name": "python",
   "nbconvert_exporter": "python",
   "pygments_lexer": "ipython3",
   "version": "3.5.0"
  }
 },
 "nbformat": 4,
 "nbformat_minor": 0
}
